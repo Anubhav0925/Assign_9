{
 "cells": [
  {
   "cell_type": "markdown",
   "id": "65a71fee-de2a-4397-88ed-5660c8b73917",
   "metadata": {},
   "source": [
    "Q1. What is an Exception in pthon? Write the difference between Exceptions\n",
    "and syntax errors."
   ]
  },
  {
   "cell_type": "markdown",
   "id": "67e19808-4b9e-468e-8f64-c4a1473090a9",
   "metadata": {},
   "source": [
    "Answere:-  In Python, an exception is an error that occurs during the execution of a program. When an exceptional condition is encountered, the Python interpreter raises an exception to signal that something went wrong. Exceptions can occur due to a variety of reasons, such as invalid input, unexpected behavior, or resource exhaustion.\n",
    "On the other hand, syntax errors are errors that occur when the Python interpreter encounters code that does not conform to the rules of the Python language. Syntax errors are detected by the Python interpreter during the parsing stage and prevent the code from running altogether. These errors are typically caused by typos, missing parentheses, or incorrect indentation.\n",
    "The main difference between exceptions and syntax errors is that syntax errors are detected by the Python interpreter during the parsing stage, while exceptions occur during the execution of the program. In other words, syntax errors prevent the code from running, while exceptions can occur even if the code is syntactically correct.\n",
    "Another important difference is that syntax errors are usually easy to fix, as the interpreter provides a detailed error message that points to the exact location of the error. Exceptions, on the other hand, are often more difficult to fix, as they can be caused by a variety of factors and may require additional debugging and troubleshooting."
   ]
  },
  {
   "cell_type": "markdown",
   "id": "045c31de-5820-44c6-8cc4-c9e030aefd50",
   "metadata": {},
   "source": [
    "Q2. What happens when an exception is not handled? Explin with an example  "
   ]
  },
  {
   "cell_type": "markdown",
   "id": "5efbe055-378d-465c-aa5a-72fc7668384b",
   "metadata": {},
   "source": [
    "Answere :- When an exception is not handled, it results in an error message being displayed and the program being terminated. This is known as an unhandled exception.\n",
    "Here's an example:"
   ]
  },
  {
   "cell_type": "code",
   "execution_count": 14,
   "id": "7236eee5-8432-4697-a220-5864e2de7424",
   "metadata": {},
   "outputs": [
    {
     "name": "stdin",
     "output_type": "stream",
     "text": [
      "Enter a number:  5\n",
      "Enter another number:  \n"
     ]
    },
    {
     "name": "stdout",
     "output_type": "stream",
     "text": [
      "Invalid input. Please enter a number.\n"
     ]
    }
   ],
   "source": [
    "# Example\n",
    "try:\n",
    "    num1 = int(input(\"Enter a number: \"))\n",
    "    num2 = int(input(\"Enter another number: \"))\n",
    "\n",
    "except ValueError:\n",
    "    print(\"Invalid input. Please enter a number.\")\n",
    "else:\n",
    "    result = num1 / num2\n",
    "    print(\"The result is:\", result)\n"
   ]
  },
  {
   "cell_type": "markdown",
   "id": "2d03a001-e0c7-4179-bab4-f926eb899f16",
   "metadata": {},
   "source": [
    "In this example, we're trying to divide two numbers that the user inputs. If the user inputs invalid input, such as a string, then a ValueError exception will be raised and the program will handle it by displaying an error message.\n",
    "\n",
    "However, if we remove the 'except' block from the code:"
   ]
  },
  {
   "cell_type": "code",
   "execution_count": 15,
   "id": "0ae649bf-1b2c-4966-8a5d-03f8afd3c122",
   "metadata": {},
   "outputs": [
    {
     "ename": "SyntaxError",
     "evalue": "incomplete input (2530110204.py, line 5)",
     "output_type": "error",
     "traceback": [
      "\u001b[0;36m  Cell \u001b[0;32mIn[15], line 5\u001b[0;36m\u001b[0m\n\u001b[0;31m    print(\"The result is:\", result)\u001b[0m\n\u001b[0m                                   ^\u001b[0m\n\u001b[0;31mSyntaxError\u001b[0m\u001b[0;31m:\u001b[0m incomplete input\n"
     ]
    }
   ],
   "source": [
    "try:\n",
    "    num1 = int(input(\"Enter a number: \"))\n",
    "    num2 = int(input(\"Enter another number: \"))\n",
    "    result = num1 / num2\n",
    "    print(\"The result is:\", result)\n"
   ]
  },
  {
   "cell_type": "markdown",
   "id": "705fd0ae-3467-4e93-8f1c-dacbc79b7b71",
   "metadata": {},
   "source": [
    "And then we try to input an invalid value, like \"hello\", we will get the following error message:"
   ]
  },
  {
   "cell_type": "markdown",
   "id": "91cb2208-e62c-48c5-8cc0-8edde3b76ea8",
   "metadata": {},
   "source": [
    "This is an unhandled exception because we did not include an except block to catch this error. As a result, the program will terminate and the error message will be displayed."
   ]
  },
  {
   "cell_type": "markdown",
   "id": "1228313c-900c-4790-9427-9b22b5f5e5c7",
   "metadata": {},
   "source": [
    "Q3. Which Python statements are used to catch nd handle exceptions? Explain with an example "
   ]
  },
  {
   "cell_type": "markdown",
   "id": "f0bf9e17-992b-49f0-a09e-953d138f9709",
   "metadata": {},
   "source": [
    "Answere :- In Python, we can catch and handle exceptions using the 'try' and 'except' statements. The 'try' block contains the code that may raise an exception, while the 'except' block contains the code that will be executed if an exception is raised."
   ]
  },
  {
   "cell_type": "code",
   "execution_count": 17,
   "id": "9aa530e2-e765-42b3-862c-e9264add9d71",
   "metadata": {},
   "outputs": [
    {
     "name": "stdin",
     "output_type": "stream",
     "text": [
      "Enter a number:  9\n",
      "Enter another number:  6\n"
     ]
    },
    {
     "name": "stdout",
     "output_type": "stream",
     "text": [
      "The result is: 1.5\n"
     ]
    }
   ],
   "source": [
    "#Here's an example:\n",
    "try:\n",
    "    num1 = int(input(\"Enter a number: \"))\n",
    "    num2 = int(input(\"Enter another number: \"))\n",
    "    result = num1 / num2\n",
    "    print(\"The result is:\", result)\n",
    "except ValueError:\n",
    "    print(\"Invalid input. Please enter a number.\")\n",
    "except ZeroDivisionError:\n",
    "    print(\"Cannot divide by zero.\")\n"
   ]
  },
  {
   "cell_type": "markdown",
   "id": "7a269a10-242b-4ce4-b44e-9c91daf08aa4",
   "metadata": {},
   "source": [
    "In this example, we're trying to divide two numbers that the user inputs. We use the try statement to wrap around the code that may raise an exception. If any of the lines inside the try block raises an exception, then the interpreter will stop executing the try block and will look for an except block that can handle that exception."
   ]
  },
  {
   "cell_type": "markdown",
   "id": "09dcdfb3-c6ab-44d6-9bec-c04f9ff3ccd0",
   "metadata": {},
   "source": [
    "In this example, we have two 'except' blocks, one for 'ValueError' and one for 'ZeroDivisionError'. If the user inputs an invalid value, such as a string, then a 'ValueError' exception will be raised and the program will handle it by displaying an error message. Similarly, if the user tries to divide a number by zero, then a ZeroDivisionError exception will be raised and the program will handle it by displaying another error message.\n",
    "Using 'try' and 'except' statements allows us to catch and handle exceptions in a controlled manner, which can help prevent our program from crashing or producing unexpected behavior."
   ]
  },
  {
   "cell_type": "markdown",
   "id": "b419e6bb-af67-4f4c-bb0c-9063acb1503a",
   "metadata": {},
   "source": [
    "Q4. Explain with an exmple:#\n",
    "\n",
    "(i) try and else#\n",
    "(ii) finally\n",
    "(iii) raise"
   ]
  },
  {
   "cell_type": "markdown",
   "id": "a7fb1c28-b28c-4325-a4c8-4c049d3d301f",
   "metadata": {},
   "source": [
    "Solution :- \n",
    "\n",
    "(i) 'try' and 'else' block:\n",
    "\n",
    "In Python, we can also use the else block in addition to the try and except blocks. The code in the else block is executed if no exception is raised in the try block. Here's an example:"
   ]
  },
  {
   "cell_type": "code",
   "execution_count": null,
   "id": "b8606aea-3536-45b0-829f-dbd646e1f30c",
   "metadata": {},
   "outputs": [],
   "source": [
    "try:\n",
    "    num1 = int(input(\"Enter a number: \"))\n",
    "    num2 = int(input(\"Enter another number: \"))\n",
    "    result = num1 / num2\n",
    "except ValueError:\n",
    "    print(\"Invalid input. Please enter a number.\")\n",
    "except ZeroDivisionError:\n",
    "    print(\"Cannot divide by zero.\")\n",
    "else:\n",
    "    print(\"The result is:\", result)\n"
   ]
  },
  {
   "cell_type": "markdown",
   "id": "84c275ab-6fdc-48b2-af5e-47fd46664689",
   "metadata": {},
   "source": [
    "In this example, if no exception is raised in the 'try' block, then the code in the 'else' block is executed, which simply prints out the result of the division. If an exception is raised, then the 'except' block will handle it."
   ]
  },
  {
   "cell_type": "markdown",
   "id": "22901093-51fb-41c8-b8d8-f682dff7c033",
   "metadata": {},
   "source": [
    "(ii) 'finally' block:\n",
    "\n",
    "The 'finally' block is used to specify a piece of code that will be executed no matter what, whether an exception is raised or not. Here's an example:"
   ]
  },
  {
   "cell_type": "code",
   "execution_count": 12,
   "id": "02857d2c-eb27-4ff6-aced-b01ceb95a885",
   "metadata": {},
   "outputs": [
    {
     "name": "stdout",
     "output_type": "stream",
     "text": [
      "File not found.\n"
     ]
    },
    {
     "ename": "NameError",
     "evalue": "name 'file' is not defined",
     "output_type": "error",
     "traceback": [
      "\u001b[0;31m---------------------------------------------------------------------------\u001b[0m",
      "\u001b[0;31mNameError\u001b[0m                                 Traceback (most recent call last)",
      "Cell \u001b[0;32mIn[12], line 7\u001b[0m\n\u001b[1;32m      5\u001b[0m     \u001b[38;5;28mprint\u001b[39m(\u001b[38;5;124m\"\u001b[39m\u001b[38;5;124mFile not found.\u001b[39m\u001b[38;5;124m\"\u001b[39m)\n\u001b[1;32m      6\u001b[0m \u001b[38;5;28;01mfinally\u001b[39;00m:\n\u001b[0;32m----> 7\u001b[0m     \u001b[43mfile\u001b[49m\u001b[38;5;241m.\u001b[39mclose()\n\u001b[1;32m      8\u001b[0m     \u001b[38;5;28mprint\u001b[39m(\u001b[38;5;124m\"\u001b[39m\u001b[38;5;124mFile closed.\u001b[39m\u001b[38;5;124m\"\u001b[39m)\n",
      "\u001b[0;31mNameError\u001b[0m: name 'file' is not defined"
     ]
    }
   ],
   "source": [
    "try:\n",
    "    file = open(\"example.txt\", \"r\")\n",
    "    content = file.read()\n",
    "except FileNotFoundError:\n",
    "    print(\"File not found.\")\n",
    "finally:\n",
    "    file.close()\n",
    "    print(\"File closed.\")\n"
   ]
  },
  {
   "cell_type": "markdown",
   "id": "3bc4d30b-31c1-4904-843a-480361e34f0a",
   "metadata": {},
   "source": [
    "In this example, we're trying to read the content of a file. If the file is not found, then a FileNotFoundError exception will be raised and the program will handle it by displaying an error message. The finally block contains the code to close the file, which will be executed no matter what."
   ]
  },
  {
   "cell_type": "markdown",
   "id": "603a9bd8-3d16-4b4c-9631-125b21b0d3d1",
   "metadata": {},
   "source": [
    "(iii) raise statement:\n",
    "\n",
    "The raise statement is used to raise an exception manually. Here's an example:"
   ]
  },
  {
   "cell_type": "code",
   "execution_count": 13,
   "id": "156ad12e-f73b-4d5b-a9fa-7848ea584f5b",
   "metadata": {},
   "outputs": [
    {
     "ename": "ValueError",
     "evalue": "You must be at least 18 years old.",
     "output_type": "error",
     "traceback": [
      "\u001b[0;31m---------------------------------------------------------------------------\u001b[0m",
      "\u001b[0;31mValueError\u001b[0m                                Traceback (most recent call last)",
      "Cell \u001b[0;32mIn[13], line 3\u001b[0m\n\u001b[1;32m      1\u001b[0m age \u001b[38;5;241m=\u001b[39m \u001b[38;5;241m17\u001b[39m\n\u001b[1;32m      2\u001b[0m \u001b[38;5;28;01mif\u001b[39;00m age \u001b[38;5;241m<\u001b[39m \u001b[38;5;241m18\u001b[39m:\n\u001b[0;32m----> 3\u001b[0m     \u001b[38;5;28;01mraise\u001b[39;00m \u001b[38;5;167;01mValueError\u001b[39;00m(\u001b[38;5;124m\"\u001b[39m\u001b[38;5;124mYou must be at least 18 years old.\u001b[39m\u001b[38;5;124m\"\u001b[39m)\n",
      "\u001b[0;31mValueError\u001b[0m: You must be at least 18 years old."
     ]
    }
   ],
   "source": [
    "age = 17\n",
    "if age < 18:\n",
    "    raise ValueError(\"You must be at least 18 years old.\")\n"
   ]
  },
  {
   "cell_type": "markdown",
   "id": "02663338-355a-4c0b-88da-6b44f291ad63",
   "metadata": {},
   "source": [
    "In this example, we're checking if a person's age is less than 18. If the age is less than 18, then we're raising a 'ValueError' exception with a custom error message. The 'raise' statement allows us to create and raise our own exceptions, which can be useful in certain situations."
   ]
  },
  {
   "cell_type": "markdown",
   "id": "0f43f023-a80b-4bc2-8fc4-afe393d3825a",
   "metadata": {},
   "source": [
    "Q5. What are Custom Exceptions in python? What do we need Custom Exceptions? Explain with an example"
   ]
  },
  {
   "cell_type": "markdown",
   "id": "0fdfff28-d26d-4628-b30e-e0be432a8efb",
   "metadata": {},
   "source": [
    "Answere :- Custom exceptions, also known as user-defined exceptions, are exceptions that are defined by the programmer. These exceptions can be raised and caught just like built-in exceptions, and they allow the programmer to define their own error conditions and messages.\n",
    "\n",
    "There are several reasons why we may want to use custom exceptions in Python. One common reason is to create more specific and meaningful error messages for our program. By defining our own exceptions, we can make our error messages more descriptive and easier to understand for users of our program. Another reason is to create more specialized behavior when an exception is raised. By creating custom exceptions, we can define specific actions to be taken when an error occurs.\n",
    "Here's an example of how to define and use a custom exception in Python:"
   ]
  },
  {
   "cell_type": "code",
   "execution_count": null,
   "id": "39d3e1e0-464f-45ab-9791-9730e0761b95",
   "metadata": {},
   "outputs": [],
   "source": [
    "class InvalidPasswordException(Exception):\n",
    "    def __init__(self, message=\"Invalid password.\"):\n",
    "        self.message = message\n",
    "        super().__init__(self.message)\n",
    "\n",
    "def login(username, password):\n",
    "    if password != \"password123\":\n",
    "        raise InvalidPasswordException(\"Incorrect password.\")\n",
    "    else:\n",
    "        print(\"Welcome, {}!\".format(username))\n",
    "\n",
    "try:\n",
    "    login(\"john\", \"mypassword\")\n",
    "except InvalidPasswordException as e:\n",
    "    print(e.message)\n"
   ]
  },
  {
   "cell_type": "markdown",
   "id": "358e2eac-857a-4bb1-9c0d-60a6af8156bd",
   "metadata": {},
   "source": [
    "In this example, we've defined a custom exception called 'InvalidPasswordException', which is raised when an invalid password is entered during a login attempt. The '__init__' method is used to define the error message for the exception. The 'login' function takes a username and password as input and raises the 'InvalidPasswordException' if the password is incorrect. The 'try' block attempts to log in using a sample username and password, and the 'except' block catches the 'InvalidPasswordException' and prints the error message"
   ]
  },
  {
   "cell_type": "markdown",
   "id": "bf2ab0cc-86b5-4fce-a0b5-3b99881aa64f",
   "metadata": {},
   "source": [
    "Q6. Create Custom exception class. Use this class to handle an exception."
   ]
  },
  {
   "cell_type": "markdown",
   "id": "b4aa1270-dc32-42c5-902a-3f0ff49e4895",
   "metadata": {},
   "source": [
    "Answere:-  Sure, I can help you create a custom exception class and use it to handle an exception. Here's an example code:"
   ]
  },
  {
   "cell_type": "code",
   "execution_count": null,
   "id": "d2694e02-5229-44e7-b026-cb506373505b",
   "metadata": {},
   "outputs": [],
   "source": [
    "class MyCustomException(Exception):\n",
    "    def __init__(self, message):\n",
    "        self.message = message\n",
    "        super().__init__(self.message)\n",
    "\n",
    "try:\n",
    "    age = int(input(\"Enter your age: \"))\n",
    "    if age < 18:\n",
    "        raise MyCustomException(\"You are too young to access this website.\")\n",
    "    else:\n",
    "        print(\"Welcome to the website!\")\n",
    "except MyCustomException as e:\n",
    "    print(e.message)\n"
   ]
  },
  {
   "cell_type": "markdown",
   "id": "b93c7a2a-86a1-4a4f-b93f-3503b015369b",
   "metadata": {},
   "source": [
    "In the above code, we have created a custom exception class 'MyCustomException' which takes a message as an argument and passes it to the '__init__' method of the parent 'Exception' class.\n",
    "We then use this custom exception class to raise an exception if the user's age is less than 18. If the exception is raised, we catch it using the 'except' block and print the error message.\n",
    "You can modify the MyCustomException class and the code inside the try block as per your specific use case."
   ]
  }
 ],
 "metadata": {
  "kernelspec": {
   "display_name": "Python 3 (ipykernel)",
   "language": "python",
   "name": "python3"
  },
  "language_info": {
   "codemirror_mode": {
    "name": "ipython",
    "version": 3
   },
   "file_extension": ".py",
   "mimetype": "text/x-python",
   "name": "python",
   "nbconvert_exporter": "python",
   "pygments_lexer": "ipython3",
   "version": "3.10.8"
  }
 },
 "nbformat": 4,
 "nbformat_minor": 5
}
